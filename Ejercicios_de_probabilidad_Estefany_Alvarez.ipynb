{
  "nbformat": 4,
  "nbformat_minor": 0,
  "metadata": {
    "colab": {
      "name": "Ejercicios de probabilidad - Estefany Alvarez.ipynb",
      "provenance": [],
      "authorship_tag": "ABX9TyM7/aH9342/qbukZVCurFMz",
      "include_colab_link": true
    },
    "kernelspec": {
      "name": "python3",
      "display_name": "Python 3"
    }
  },
  "cells": [
    {
      "cell_type": "markdown",
      "metadata": {
        "id": "view-in-github",
        "colab_type": "text"
      },
      "source": [
        "<a href=\"https://colab.research.google.com/github/salvarezmeneses/DataScience2020/blob/master/Ejercicios_de_probabilidad_Estefany_Alvarez.ipynb\" target=\"_parent\"><img src=\"https://colab.research.google.com/assets/colab-badge.svg\" alt=\"Open In Colab\"/></a>"
      ]
    },
    {
      "cell_type": "markdown",
      "metadata": {
        "id": "x4axUoFBV58w",
        "colab_type": "text"
      },
      "source": [
        "**1.** In an English deck of cards there are 4 pints (hearts, spades, diamonds and clubs) and 13 cards per pint. That is, in total there are 52 cards. Suppose you choose two random cards. What is the probability that one of them is black since the other is also black?\n",
        "\n",
        "\n",
        "\n",
        "* a) 1/2\n",
        "* b) 25/52\n",
        "* c) 25/51\n",
        "* d) 26/51\n",
        "* e) None of above\n",
        "\n",
        "**the correct option is _d_:**\n",
        "*  For the first throw of cards the probability will be **P(A) = 26/52**  \n",
        "*  for the second  throw of cards the probability will be , because in first throw it use one card. **P(B\\A) = 25/51**.\n"
      ]
    },
    {
      "cell_type": "markdown",
      "metadata": {
        "id": "L-0F5-O-V8LT",
        "colab_type": "text"
      },
      "source": [
        "**2**. The probability that a Titi monkey likes to eat peanuts is 40%, and the probability of consuming it regularly is 20%. In addition, studies have shown that, among the Titi monkeys that eat peanuts, the probability of dying before 5 years is 5%. What is the probability that a Titi monkey eats peanuts regularly and dies before age 5?\n",
        "\n",
        "* a) 0.1\n",
        "* b) 0.04\n",
        "* c) 0.02\n",
        "* d) 0.01\n",
        "\n",
        "Information Provided\n",
        "- P(Likes)      = 40 %  = 0.4  \n",
        "- P(Regularly)  = 20 %  = 0.2  \n",
        "- P(Dying Eats) = 5 %   = 0.05   \n",
        "\n",
        "\n",
        " What is the probability that a Titi monkey eats peanuts regularly and dies before age 5?"
      ]
    },
    {
      "cell_type": "markdown",
      "metadata": {
        "id": "22OBH1tjZoyF",
        "colab_type": "text"
      },
      "source": [
        "**3**. If you throw a 6-sided side 3 times. X1, X2 and X3 denote the value of the first, second and third throw. What is P (X1 + X2 + X3 <= 5)\n",
        "\n",
        "* a) 10/36\n",
        "* b) 5/36\n",
        "* c) 10/216\n",
        "* d) 5/216\n",
        "\n",
        " the correct option is **_a_**\n",
        "\n",
        "  * **Probability(𝑋1 + 𝑋2 + X3) = 10/36**"
      ]
    },
    {
      "cell_type": "markdown",
      "metadata": {
        "id": "Ngdb9Sl2hAm9",
        "colab_type": "text"
      },
      "source": [
        "**4.** In an English deck of cards there are 4 pints (hearts, spades, diamonds and tremolo) and 13 cards per pints. That is, in total there are 52 cards. Suppose you choose two random cards. What is the probability that one of them is black since the other is red?\n",
        "\n",
        "* a) 1/2\n",
        "* b) 25/52\n",
        "* c) 1/4\n",
        "* d) 26/51\n",
        "\n",
        "The correct option is **d**\n",
        "\n",
        "  * **P(A \\ B) = 26/51**\n"
      ]
    },
    {
      "cell_type": "markdown",
      "metadata": {
        "id": "FQ5zxWzBlusi",
        "colab_type": "text"
      },
      "source": [
        "**5.** Consider a fair coin and fair die. The possible outcome toss is \"head\" or \"tail\", while the possible outcome for the die throw is 1,2,3,4,5 or 6. You toss the coin 4 times and throw the die 2 times. The number of possible outcomes for this experiment is________\n",
        "\n",
        "**ANSWER:**\n",
        "\n",
        "  * 576"
      ]
    },
    {
      "cell_type": "markdown",
      "metadata": {
        "id": "X22nRo9gnf1F",
        "colab_type": "text"
      },
      "source": [
        "**6.** A dart is thrown at circular dashboard such that it will land randomly over the area of the dashboard. What is the probability that it lands closer to the center than to the edge? Assume the dart always reaches the dashboard.\n",
        "\n",
        "* a) 25%\n",
        "* b) 50%\n",
        "* c) 10%\n",
        "* d) 33%\n",
        "\n",
        "The correct option is **a:**\n",
        "\n",
        "  * 25%"
      ]
    }
  ]
}